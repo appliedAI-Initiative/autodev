{
 "cells": [
  {
   "cell_type": "code",
   "execution_count": 1,
   "metadata": {
    "collapsed": true,
    "ExecuteTime": {
     "end_time": "2023-05-23T11:21:21.638454900Z",
     "start_time": "2023-05-23T11:21:17.620655600Z"
    }
   },
   "outputs": [
    {
     "name": "stderr",
     "output_type": "stream",
     "text": [
      "/home/d_jain_appliedai_de/remote-autodev/autodev/__init__.py:57: UserWarning: Patching transformers.TextGenerationPipeline._forward because of a bug that requires all pipeline arguments to be serializable.\n",
      "  warnings.warn(\"Patching transformers.TextGenerationPipeline._forward because of a bug that requires all pipeline arguments to be serializable.\")\n"
     ]
    }
   ],
   "source": [
    "%load_ext autoreload\n",
    "%autoreload 2\n",
    "\n",
    "import logging\n",
    "import os\n",
    "import sys\n",
    "from collections import defaultdict\n",
    "from pathlib import Path\n",
    "from typing import Dict, List, Callable\n",
    "\n",
    "from autodev.code_functions import ExplainCodeFunction, CodeFunction, PotentialProblemsFunction\n",
    "from autodev.llm import LLMType, StreamingLLM\n",
    "\n",
    "log = logging.getLogger(\"main\")\n",
    "logging.basicConfig(format='%(levelname)-5s %(asctime)-15s %(name)s:%(funcName)s - %(message)s', stream=sys.stdout, level=logging.INFO)"
   ]
  },
  {
   "cell_type": "code",
   "execution_count": 2,
   "outputs": [
    {
     "name": "stdout",
     "output_type": "stream",
     "text": [
      "INFO  2023-05-23 11:21:23,967 main:<module> - 2 code snippets read\n"
     ]
    }
   ],
   "source": [
    "def read_code_snippets() -> Dict[str, str]:\n",
    "    code_snippets = {}\n",
    "    root = Path(\"data\") / \"code_snippets\"\n",
    "    for fn in os.listdir(root):\n",
    "        with open(root / fn, \"r\") as f:\n",
    "            code_snippets[fn] = f.read()\n",
    "    return code_snippets\n",
    "\n",
    "\n",
    "code_snippets = read_code_snippets()\n",
    "log.info(f\"{len(code_snippets)} code snippets read\")"
   ],
   "metadata": {
    "collapsed": false,
    "ExecuteTime": {
     "end_time": "2023-05-23T11:21:23.651956Z",
     "start_time": "2023-05-23T11:21:23.619954Z"
    }
   }
  },
  {
   "cell_type": "code",
   "execution_count": 3,
   "outputs": [
    {
     "data": {
      "text/plain": "Loading checkpoint shards:   0%|          | 0/4 [00:00<?, ?it/s]",
      "application/vnd.jupyter.widget-view+json": {
       "version_major": 2,
       "version_minor": 0,
       "model_id": "b0a86d2f43984e14ba21873d24b8277b"
      }
     },
     "metadata": {},
     "output_type": "display_data"
    },
    {
     "name": "stderr",
     "output_type": "stream",
     "text": [
      "Xformers is not installed correctly. If you want to use memorry_efficient_attention to accelerate training use the following command to install Xformers\n",
      "pip install xformers.\n"
     ]
    },
    {
     "name": "stdout",
     "output_type": "stream",
     "text": [
      "INFO  2023-05-23 11:22:07,027 main:<module> - Applying ExplainCodeFunction to segmentation.py using HUGGINGFACE_STARCHAT\n"
     ]
    },
    {
     "name": "stderr",
     "output_type": "stream",
     "text": [
      "Setting `pad_token_id` to `eos_token_id`:49155 for open-end generation.\n"
     ]
    },
    {
     "name": "stdout",
     "output_type": "stream",
     "text": [
      "\n",
      "This code is a Python implementation of the Viterbi algorithm for sequence segmentation. The Viterbi algorithm is used to find the most likely sequence of hidden states (in this case, the separator values) that results in a sequence of observed events (in this case, the integer values in the sequence).\n",
      "\n",
      "The code takes in a sequence of integers and a separator value as input, and returns a list of lists where each sublist represents a segmented sequence. The code first initializes a list result to store the segmented sequences, a list curr to store the current segment, and a for loop to iterate over the sequence.\n",
      "\n",
      "In each iteration of the loop, the code checks if the current integer in the sequence is equal to the separator value. If it is, it adds the current segment to the result list, resets the current segment to an empty list, and increments the separator value by 1. This ensures that each segmented sequence in the result list has a unique separator value.\n",
      "\n",
      "If the current integer in the sequence is not equal to the separator value, it adds the current integer to the current segment. The code then continues to the next integer in the sequence.\n",
      "\n",
      "Once the loop has finished, the code adds the last segment to the result list and returns the result list. This completes the segmentation of the input sequence based on the separator value.<|end|>INFO  2023-05-23 11:22:20,264 main:<module> - Applying ExplainCodeFunction to add.py using HUGGINGFACE_STARCHAT\n"
     ]
    },
    {
     "name": "stderr",
     "output_type": "stream",
     "text": [
      "Setting `pad_token_id` to `eos_token_id`:49155 for open-end generation.\n"
     ]
    },
    {
     "name": "stdout",
     "output_type": "stream",
     "text": [
      "\n",
      "This is a Python function that takes two arguments, x and y, and returns their sum. The function is named add, and it is defined using the def keyword. The function body is indented, and contains a single return statement that adds the two arguments.<|end|>INFO  2023-05-23 11:22:22,578 main:<module> - Applying PotentialProblemsFunction to segmentation.py using HUGGINGFACE_STARCHAT\n"
     ]
    },
    {
     "name": "stderr",
     "output_type": "stream",
     "text": [
      "Setting `pad_token_id` to `eos_token_id`:49155 for open-end generation.\n"
     ]
    },
    {
     "name": "stdout",
     "output_type": "stream",
     "text": [
      "\n",
      "<|assistant|>\n",
      "Here are some potential problems with the code:\n",
      "\n",
      "1. The function signature is not PEP 484 compliant. The type annotations are not enforced at runtime, so they do not provide any type safety or other benefits.\n",
      "2. The function is not type-annotated, so it is not self-documenting. This makes it harder for other developers to understand and use the function.\n",
      "3. The function has a confusing name. The name \"segmentation\" suggests that it is splitting a sequence into segments, but it actually creates subsequences based on a separator value. The name \"split_by_value\" or \"group_by_value\" would be more clear.\n",
      "4. The function does not handle edge cases, such as empty lists or lists with only one element. This can cause the function to return incorrect results or raise exceptions.\n",
      "5. The function does not check for invalid input, such as non-numeric separator values. This can cause the function to return incorrect results or raise exceptions.\n",
      "6. The function does not have any tests or type hints to help catch errors like these at development time. This can make it difficult to catch and fix these issues before they cause problems in production.\n",
      "\n",
      "To address these issues, you could:\n",
      "\n",
      "1. Add type annotations to the function signature and make them enforce type safety at runtime.\n",
      "2. Add type annotations to the function body to make it self-documenting and easier to understand.\n",
      "3. Rename the function to be more clear about its purpose.\n",
      "4. Add error handling and input validation to the function to handle edge cases and invalid input.\n",
      "5. Add tests and type hints to the function to help catch errors like these at development time.\n",
      "6. Consider using a library like mypy or Pyright to perform static type checking and other static analysis on the code, which can help catch and prevent these issues before they cause problems in production.\n",
      "\n",
      "Overall, adding type annotations, self-documenting code, clear function names, error handling, input validation, tests, and static analysis can help make your code more robust, easier to maintain, and less prone to bugs and other issues.<|end|>INFO  2023-05-23 11:22:41,503 main:<module> - Applying PotentialProblemsFunction to add.py using HUGGINGFACE_STARCHAT\n"
     ]
    },
    {
     "name": "stderr",
     "output_type": "stream",
     "text": [
      "Setting `pad_token_id` to `eos_token_id`:49155 for open-end generation.\n"
     ]
    },
    {
     "name": "stdout",
     "output_type": "stream",
     "text": [
      "\n",
      "<|assistant|>\n",
      "Here are some potential problems with the code:\n",
      "\n",
      "1. Function name conflicts: If another function in the same scope has the same name as the function, it will override the original function definition. This can cause errors if the original function was intended to perform a different operation.\n",
      "\n",
      "2. Unintended side effects: Functions can have unintended side effects, such as modifying global variables or modifying the arguments passed in. This can cause bugs that are hard to find and fix.\n",
      "\n",
      "3. Difficult to maintain: Functions can be difficult to maintain and modify over time. If the function needs to be changed, it can be difficult to determine the exact impact of each change.\n",
      "\n",
      "4. Lack of encapsulation: Functions can be difficult to encapsulate, which means that they cannot be easily reused in other parts of the code. This can make it difficult to write modular and reusable code.\n",
      "\n",
      "5. Performance issues: Functions can have a negative impact on performance if they are called too frequently or if they are called in a loop. This can cause the program to run slower and use more memory.\n",
      "\n",
      "Overall, it is important to write clean, efficient, and maintainable code that is easy to understand and debug.<|end|>INFO  2023-05-23 11:22:52,092 main:<module> - Applying ExplainCodeFunction to segmentation.py using OPENAI_CHAT_GPT4\n"
     ]
    },
    {
     "name": "stderr",
     "output_type": "stream",
     "text": [
      "/home/d_jain_appliedai_de/.cache/pypoetry/virtualenvs/autodev-izElbtlG-py3.10/lib/python3.10/site-packages/langchain/llms/openai.py:696: UserWarning: You are trying to use a chat model. This way of initializing it is no longer supported. Instead, please use: `from langchain.chat_models import ChatOpenAI`\n",
      "  warnings.warn(\n"
     ]
    },
    {
     "name": "stdout",
     "output_type": "stream",
     "text": [
      "This piece of code defines a function called \"segmentation\" that takes in a list of integers called \"seq\" and an integer called \"separator\" as input arguments. The function returns a list of lists of integers as its output.\n",
      "\n",
      "The \"segmentation\" function processes the input sequence \"seq\" and splits it into sub-sequences (sub-lists) whenever the \"separator\" integer is encountered. It appends each sub-list to a list called \"result\".\n",
      "\n",
      "Here's how the code works:\n",
      "\n",
      "1. Initialize an empty list \"result\" that will store the final list of lists.\n",
      "2. Initialize an empty list \"curr\" that will temporarily store sub-sequences.\n",
      "3. Iterate through each item in the input sequence \"seq\" using a for loop, with index \"i\" and \"item\" representing the current item in the sequence.\n",
      "4. Inside the loop, check if the current item is equal to the separator value. If it is, then append the current \"curr\" sub-list to the \"result\" list and reset \"curr\" to an empty list.\n",
      "5. If the current item is not equal to the separator value, then simply append it to the current \"curr\" list.\n",
      "6. Once the loop is done processing all items in the sequence, return the \"result\" list containing the split sub-lists.INFO  2023-05-23 11:23:44,360 main:<module> - Applying ExplainCodeFunction to add.py using OPENAI_CHAT_GPT4\n",
      "This piece of code defines a function called \"add\" that takes two input parameters, x and y. When the function is called, it returns the sum of x and y. It is essentially a function to perform addition of two numbers.INFO  2023-05-23 11:23:55,022 main:<module> - Applying PotentialProblemsFunction to segmentation.py using OPENAI_CHAT_GPT4\n",
      "1. The code does not handle the case where the input sequence ends with a non-separator element. In this case, the last segment will not be appended to the result list. To fix this, add `result.append(curr)` after the for loop.\n",
      "\n",
      "2. If the input sequence contains consecutive separators or a separator at the beginning, the code will append empty lists to the result, which might be undesirable depending on the desired functionality. To fix this, you can add a condition to check if `curr` is non-empty before appending it to the result.\n",
      "\n",
      "3. The function does not handle the input parameters being `None` or non-lists. This may lead to unexpected behavior or crashes. You can add input validation to handle this, for example, by raising a `TypeError` or returning an empty list.INFO  2023-05-23 11:24:28,651 main:<module> - Applying PotentialProblemsFunction to add.py using OPENAI_CHAT_GPT4\n",
      "1. Type Mismatch: If the input parameters 'x' and 'y' are of different data types (e.g., string and integer), the function will throw an error when trying to add them. There should be proper type-checking or type conversion in place.\n",
      "\n",
      "2. No Input Validation: The function does not check if the input parameters are valid or not (e.g., ensuring both 'x' and 'y' are numbers). This may lead to unintended behavior if invalid inputs are passed.\n",
      "\n",
      "3. No Error Handling: There is no error handling in place in case something goes wrong during the execution of the function. This may cause the program to crash or produce undesired results when an error occurs.\n",
      "\n",
      "4. Limited Functionality: The function only supports addition of two parameters. More flexibility could be added by accepting multiple inputs or providing optional parameters for different operations.\n",
      "\n",
      "5. Lack of Documentation: There are no comments or docstrings explaining the purpose of the function, its input parameters, or the expected output. This might make it difficult for someone new to the code to understand its purpose and usage.\n",
      "\n",
      "6. Function Naming: The function name \"add\" might be too generic, and it could conflict with other functions with the same name in the same scope or in imported libraries. A more descriptive name could be used to avoid potential confusion."
     ]
    }
   ],
   "source": [
    "model_types = [LLMType.HUGGINGFACE_STARCHAT, LLMType.OPENAI_CHAT_GPT4]\n",
    "code_fn_factories: List[Callable[[StreamingLLM], CodeFunction]] = [ExplainCodeFunction, PotentialProblemsFunction]\n",
    "\n",
    "responses = defaultdict(lambda: defaultdict(dict))\n",
    "for model_type in model_types:\n",
    "    model = model_type.create_streaming_llm()\n",
    "    model_name = model_type.name\n",
    "    for code_fn_factory in code_fn_factories:\n",
    "        code_fn = code_fn_factory(model)\n",
    "        code_fn_name = code_fn.__class__.__name__\n",
    "        for code_snippet_name, code_snippet in code_snippets.items():\n",
    "            log.info(f\"Applying {code_fn_name} to {code_snippet_name} using {model_name}\")\n",
    "            response = code_fn.apply(code_snippet, stream=sys.stdout)\n",
    "            responses[code_fn_name][code_snippet_name][model_name] = response\n"
   ],
   "metadata": {
    "collapsed": false,
    "ExecuteTime": {
     "end_time": "2023-05-23T11:25:17.459020400Z",
     "start_time": "2023-05-23T11:21:31.626106300Z"
    }
   }
  },
  {
   "cell_type": "code",
   "execution_count": 4,
   "outputs": [
    {
     "data": {
      "text/plain": "<IPython.core.display.HTML object>",
      "text/html": "<h2>ExplainCodeFunction</h2><h3>segmentation.py</h3><pre>from typing import List\n\n\ndef segmentation(seq: List[int], separator: int) -> List[List[int]]:\n    result = []\n    curr = []\n    for i, item in enumerate(seq):\n        if item == separator:\n            result.append(curr)\n            curr = []\n        else:\n            curr.append(item)\n    return result\n</pre><h4>HUGGINGFACE_STARCHAT</h4><pre>\nThis code is a Python implementation of the Viterbi algorithm for sequence segmentation. The Viterbi algorithm is used to find the most likely sequence of hidden states (in this case, the separator values) that results in a sequence of observed events (in this case, the integer values in the sequence).\n\nThe code takes in a sequence of integers and a separator value as input, and returns a list of lists where each sublist represents a segmented sequence. The code first initializes a list result to store the segmented sequences, a list curr to store the current segment, and a for loop to iterate over the sequence.\n\nIn each iteration of the loop, the code checks if the current integer in the sequence is equal to the separator value. If it is, it adds the current segment to the result list, resets the current segment to an empty list, and increments the separator value by 1. This ensures that each segmented sequence in the result list has a unique separator value.\n\nIf the current integer in the sequence is not equal to the separator value, it adds the current integer to the current segment. The code then continues to the next integer in the sequence.\n\nOnce the loop has finished, the code adds the last segment to the result list and returns the result list. This completes the segmentation of the input sequence based on the separator value.<|end|></pre><h4>OPENAI_CHAT_GPT4</h4><pre>This piece of code defines a function called \"segmentation\" that takes in a list of integers called \"seq\" and an integer called \"separator\" as input arguments. The function returns a list of lists of integers as its output.\n\nThe \"segmentation\" function processes the input sequence \"seq\" and splits it into sub-sequences (sub-lists) whenever the \"separator\" integer is encountered. It appends each sub-list to a list called \"result\".\n\nHere's how the code works:\n\n1. Initialize an empty list \"result\" that will store the final list of lists.\n2. Initialize an empty list \"curr\" that will temporarily store sub-sequences.\n3. Iterate through each item in the input sequence \"seq\" using a for loop, with index \"i\" and \"item\" representing the current item in the sequence.\n4. Inside the loop, check if the current item is equal to the separator value. If it is, then append the current \"curr\" sub-list to the \"result\" list and reset \"curr\" to an empty list.\n5. If the current item is not equal to the separator value, then simply append it to the current \"curr\" list.\n6. Once the loop is done processing all items in the sequence, return the \"result\" list containing the split sub-lists.</pre><h3>add.py</h3><pre>def add(x, y):\n    return x + y\n</pre><h4>HUGGINGFACE_STARCHAT</h4><pre>\nThis is a Python function that takes two arguments, x and y, and returns their sum. The function is named add, and it is defined using the def keyword. The function body is indented, and contains a single return statement that adds the two arguments.<|end|></pre><h4>OPENAI_CHAT_GPT4</h4><pre>This piece of code defines a function called \"add\" that takes two input parameters, x and y. When the function is called, it returns the sum of x and y. It is essentially a function to perform addition of two numbers.</pre><h2>PotentialProblemsFunction</h2><h3>segmentation.py</h3><pre>from typing import List\n\n\ndef segmentation(seq: List[int], separator: int) -> List[List[int]]:\n    result = []\n    curr = []\n    for i, item in enumerate(seq):\n        if item == separator:\n            result.append(curr)\n            curr = []\n        else:\n            curr.append(item)\n    return result\n</pre><h4>HUGGINGFACE_STARCHAT</h4><pre>\n<|assistant|>\nHere are some potential problems with the code:\n\n1. The function signature is not PEP 484 compliant. The type annotations are not enforced at runtime, so they do not provide any type safety or other benefits.\n2. The function is not type-annotated, so it is not self-documenting. This makes it harder for other developers to understand and use the function.\n3. The function has a confusing name. The name \"segmentation\" suggests that it is splitting a sequence into segments, but it actually creates subsequences based on a separator value. The name \"split_by_value\" or \"group_by_value\" would be more clear.\n4. The function does not handle edge cases, such as empty lists or lists with only one element. This can cause the function to return incorrect results or raise exceptions.\n5. The function does not check for invalid input, such as non-numeric separator values. This can cause the function to return incorrect results or raise exceptions.\n6. The function does not have any tests or type hints to help catch errors like these at development time. This can make it difficult to catch and fix these issues before they cause problems in production.\n\nTo address these issues, you could:\n\n1. Add type annotations to the function signature and make them enforce type safety at runtime.\n2. Add type annotations to the function body to make it self-documenting and easier to understand.\n3. Rename the function to be more clear about its purpose.\n4. Add error handling and input validation to the function to handle edge cases and invalid input.\n5. Add tests and type hints to the function to help catch errors like these at development time.\n6. Consider using a library like mypy or Pyright to perform static type checking and other static analysis on the code, which can help catch and prevent these issues before they cause problems in production.\n\nOverall, adding type annotations, self-documenting code, clear function names, error handling, input validation, tests, and static analysis can help make your code more robust, easier to maintain, and less prone to bugs and other issues.<|end|></pre><h4>OPENAI_CHAT_GPT4</h4><pre>1. The code does not handle the case where the input sequence ends with a non-separator element. In this case, the last segment will not be appended to the result list. To fix this, add `result.append(curr)` after the for loop.\n\n2. If the input sequence contains consecutive separators or a separator at the beginning, the code will append empty lists to the result, which might be undesirable depending on the desired functionality. To fix this, you can add a condition to check if `curr` is non-empty before appending it to the result.\n\n3. The function does not handle the input parameters being `None` or non-lists. This may lead to unexpected behavior or crashes. You can add input validation to handle this, for example, by raising a `TypeError` or returning an empty list.</pre><h3>add.py</h3><pre>def add(x, y):\n    return x + y\n</pre><h4>HUGGINGFACE_STARCHAT</h4><pre>\n<|assistant|>\nHere are some potential problems with the code:\n\n1. Function name conflicts: If another function in the same scope has the same name as the function, it will override the original function definition. This can cause errors if the original function was intended to perform a different operation.\n\n2. Unintended side effects: Functions can have unintended side effects, such as modifying global variables or modifying the arguments passed in. This can cause bugs that are hard to find and fix.\n\n3. Difficult to maintain: Functions can be difficult to maintain and modify over time. If the function needs to be changed, it can be difficult to determine the exact impact of each change.\n\n4. Lack of encapsulation: Functions can be difficult to encapsulate, which means that they cannot be easily reused in other parts of the code. This can make it difficult to write modular and reusable code.\n\n5. Performance issues: Functions can have a negative impact on performance if they are called too frequently or if they are called in a loop. This can cause the program to run slower and use more memory.\n\nOverall, it is important to write clean, efficient, and maintainable code that is easy to understand and debug.<|end|></pre><h4>OPENAI_CHAT_GPT4</h4><pre>1. Type Mismatch: If the input parameters 'x' and 'y' are of different data types (e.g., string and integer), the function will throw an error when trying to add them. There should be proper type-checking or type conversion in place.\n\n2. No Input Validation: The function does not check if the input parameters are valid or not (e.g., ensuring both 'x' and 'y' are numbers). This may lead to unintended behavior if invalid inputs are passed.\n\n3. No Error Handling: There is no error handling in place in case something goes wrong during the execution of the function. This may cause the program to crash or produce undesired results when an error occurs.\n\n4. Limited Functionality: The function only supports addition of two parameters. More flexibility could be added by accepting multiple inputs or providing optional parameters for different operations.\n\n5. Lack of Documentation: There are no comments or docstrings explaining the purpose of the function, its input parameters, or the expected output. This might make it difficult for someone new to the code to understand its purpose and usage.\n\n6. Function Naming: The function name \"add\" might be too generic, and it could conflict with other functions with the same name in the same scope or in imported libraries. A more descriptive name could be used to avoid potential confusion.</pre>"
     },
     "metadata": {},
     "output_type": "display_data"
    }
   ],
   "source": [
    "def format_responses(responses: Dict[str, Dict[str, Dict[str, str]]]) -> str:\n",
    "    html = \"\"\n",
    "    for code_fn_name, code_fn_responses in responses.items():\n",
    "        html += f\"<h2>{code_fn_name}</h2>\"\n",
    "        for code_snippet_name, code_snippet_responses in code_fn_responses.items():\n",
    "            html += f\"<h3>{code_snippet_name}</h3>\"\n",
    "            html += f\"<pre>{code_snippets[code_snippet_name]}</pre>\"\n",
    "            for model_name, response in code_snippet_responses.items():\n",
    "                html += f\"<h4>{model_name}</h4>\"\n",
    "                html += f\"<pre>{response}</pre>\"\n",
    "    return html\n",
    "\n",
    "from IPython.core.display import HTML\n",
    "display(HTML(format_responses(responses)))"
   ],
   "metadata": {
    "collapsed": false,
    "ExecuteTime": {
     "end_time": "2023-05-23T11:26:02.498623700Z",
     "start_time": "2023-05-23T11:26:02.459619700Z"
    }
   }
  }
 ],
 "metadata": {
  "kernelspec": {
   "display_name": "Python 3",
   "language": "python",
   "name": "python3"
  },
  "language_info": {
   "codemirror_mode": {
    "name": "ipython",
    "version": 2
   },
   "file_extension": ".py",
   "mimetype": "text/x-python",
   "name": "python",
   "nbconvert_exporter": "python",
   "pygments_lexer": "ipython2",
   "version": "2.7.6"
  }
 },
 "nbformat": 4,
 "nbformat_minor": 0
}
