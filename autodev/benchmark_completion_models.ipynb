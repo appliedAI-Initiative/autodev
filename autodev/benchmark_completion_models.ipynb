{
 "cells": [
  {
   "cell_type": "markdown",
   "source": [
    "# Benchmarking Auto-Completion Models\n",
    "\n",
    "This notebook compares various representations of the same model in order to investigate the benefits of quantisation and other optimisations, comparing performance of CPU- and GPU-based execution."
   ],
   "metadata": {
    "collapsed": false
   }
  },
  {
   "cell_type": "code",
   "execution_count": 6,
   "outputs": [],
   "source": [
    "from time import time\n",
    "\n",
    "import pandas as pd\n",
    "import torch.cuda\n",
    "\n",
    "from autodev.util import logging\n",
    "from autodev.autocomplete.completion_model import CompletionModel\n",
    "from autodev.autocomplete.completion_task import CompletionTask\n",
    "from autodev.autocomplete.model import SantaCoderModelFactory, ModelTransformationBetterTransformer, \\\n",
    "    ModelTransformation\n",
    "\n",
    "log = logging.getLogger(__name__)\n",
    "logging.configure()"
   ],
   "metadata": {
    "collapsed": false,
    "ExecuteTime": {
     "end_time": "2023-07-08T10:06:44.050154100Z",
     "start_time": "2023-07-08T10:06:44.045155Z"
    }
   }
  },
  {
   "cell_type": "code",
   "execution_count": 2,
   "outputs": [],
   "source": [
    "# configuration parameters\n",
    "num_applications = 10\n",
    "num_burnin_applications = 1"
   ],
   "metadata": {
    "collapsed": false,
    "ExecuteTime": {
     "end_time": "2023-07-08T10:04:45.508511700Z",
     "start_time": "2023-07-08T10:04:45.504507Z"
    }
   }
  },
  {
   "cell_type": "code",
   "execution_count": 3,
   "outputs": [],
   "source": [
    "# load completion tasks\n",
    "prefix = \"def add(x, y):\\n\"\n",
    "completion_tasks = [CompletionTask(prefix, \"\", \"python\")]"
   ],
   "metadata": {
    "collapsed": false,
    "ExecuteTime": {
     "end_time": "2023-07-08T10:05:51.070151700Z",
     "start_time": "2023-07-08T10:05:51.065149100Z"
    }
   }
  },
  {
   "cell_type": "code",
   "execution_count": 5,
   "outputs": [],
   "source": [
    "# define models to be benchmarked\n",
    "mf = SantaCoderModelFactory()\n",
    "tokenizer = mf.create_tokenizer()\n",
    "\n",
    "def create_model(path, device, nocache=False, transform: ModelTransformation = None):\n",
    "    model = mf.create_model(path, transformation=transform)\n",
    "    if nocache:\n",
    "        if model.config.use_cache:\n",
    "            model.config.use_cache = False\n",
    "        else:\n",
    "            raise ValueError(\"Model does not use cache to begin with\")\n",
    "    return CompletionModel(model, tokenizer, device=device)\n",
    "\n",
    "transformers_model_path = \"bigcode/santacoder\"\n",
    "onnx_model_path = \"models/santacoder_onnx\"\n",
    "onnx_avx2_model_path = \"models/santacoder_onnx_avx2\"\n",
    "onnx_avx512_model_path = \"models/santacoder_onnx_avx512\"\n",
    "bt = ModelTransformationBetterTransformer()\n",
    "models = {\n",
    "    \"transformers-cached-cpu\": (lambda: create_model(transformers_model_path, \"cpu\")),\n",
    "    \"transformers-cpu\": (lambda: create_model(transformers_model_path, \"cpu\", nocache=True)),\n",
    "    \"onnxruntime-cpu\": (lambda: create_model(onnx_model_path, \"cpu\")),\n",
    "    \"onnxruntime-cpu-avx2\": (lambda: create_model(onnx_avx2_model_path, \"cpu\")),\n",
    "    \"onnxruntime-cpu-avx512\": (lambda: create_model(onnx_avx512_model_path, \"cpu\")),\n",
    "    \"bettertransformer-cached-cpu\": (lambda: create_model(transformers_model_path, \"cpu\", transform=bt)),\n",
    "}\n",
    "if torch.cuda.is_available():\n",
    "    device = \"cuda:0\"\n",
    "    models.update({\n",
    "        \"transformers-cached-gpu\": (lambda: create_model(transformers_model_path, device)),\n",
    "        \"transformers-gpu\": (lambda: create_model(transformers_model_path, device, nocache=True)),\n",
    "        \"onnxruntime-gpu\": (lambda: create_model(onnx_model_path, device)),\n",
    "        \"bettertransformer-cached-gpu\": (lambda: create_model(transformers_model_path, device, transform=bt)),\n",
    "    })"
   ],
   "metadata": {
    "collapsed": false,
    "ExecuteTime": {
     "end_time": "2023-07-08T10:06:30.792649300Z",
     "start_time": "2023-07-08T10:06:30.319816400Z"
    }
   }
  },
  {
   "cell_type": "code",
   "execution_count": 9,
   "outputs": [
    {
     "name": "stdout",
     "output_type": "stream",
     "text": [
      "INFO  2023-07-08 10:33:35,642 __main__:<module> - Starting evaluation of transformers-cached-cpu\n"
     ]
    },
    {
     "name": "stderr",
     "output_type": "stream",
     "text": [
      "The model 'GPT2LMHeadCustomModel' is not supported for text-generation. Supported models are ['BartForCausalLM', 'BertLMHeadModel', 'BertGenerationDecoder', 'BigBirdForCausalLM', 'BigBirdPegasusForCausalLM', 'BioGptForCausalLM', 'BlenderbotForCausalLM', 'BlenderbotSmallForCausalLM', 'BloomForCausalLM', 'CamembertForCausalLM', 'CodeGenForCausalLM', 'CpmAntForCausalLM', 'CTRLLMHeadModel', 'Data2VecTextForCausalLM', 'ElectraForCausalLM', 'ErnieForCausalLM', 'GitForCausalLM', 'GPT2LMHeadModel', 'GPT2LMHeadModel', 'GPTBigCodeForCausalLM', 'GPTNeoForCausalLM', 'GPTNeoXForCausalLM', 'GPTNeoXJapaneseForCausalLM', 'GPTJForCausalLM', 'LlamaForCausalLM', 'MarianForCausalLM', 'MBartForCausalLM', 'MegaForCausalLM', 'MegatronBertForCausalLM', 'MvpForCausalLM', 'OpenLlamaForCausalLM', 'OpenAIGPTLMHeadModel', 'OPTForCausalLM', 'PegasusForCausalLM', 'PLBartForCausalLM', 'ProphetNetForCausalLM', 'QDQBertLMHeadModel', 'ReformerModelWithLMHead', 'RemBertForCausalLM', 'RobertaForCausalLM', 'RobertaPreLayerNormForCausalLM', 'RoCBertForCausalLM', 'RoFormerForCausalLM', 'RwkvForCausalLM', 'Speech2Text2ForCausalLM', 'TransfoXLLMHeadModel', 'TrOCRForCausalLM', 'XGLMForCausalLM', 'XLMWithLMHeadModel', 'XLMProphetNetForCausalLM', 'XLMRobertaForCausalLM', 'XLMRobertaXLForCausalLM', 'XLNetLMHeadModel', 'XmodForCausalLM', 'ORTModelForCausalLM'].\n",
      "Setting `pad_token_id` to `eos_token_id`:49152 for open-end generation.\n",
      "Setting `pad_token_id` to `eos_token_id`:49152 for open-end generation.\n",
      "Setting `pad_token_id` to `eos_token_id`:49152 for open-end generation.\n",
      "Setting `pad_token_id` to `eos_token_id`:49152 for open-end generation.\n",
      "Setting `pad_token_id` to `eos_token_id`:49152 for open-end generation.\n",
      "Setting `pad_token_id` to `eos_token_id`:49152 for open-end generation.\n",
      "Setting `pad_token_id` to `eos_token_id`:49152 for open-end generation.\n",
      "Setting `pad_token_id` to `eos_token_id`:49152 for open-end generation.\n",
      "Setting `pad_token_id` to `eos_token_id`:49152 for open-end generation.\n",
      "Setting `pad_token_id` to `eos_token_id`:49152 for open-end generation.\n",
      "Setting `pad_token_id` to `eos_token_id`:49152 for open-end generation.\n"
     ]
    },
    {
     "name": "stdout",
     "output_type": "stream",
     "text": [
      "INFO  2023-07-08 10:34:26,059 __main__:<module> - transformers-cached-cpu: time taken = 24.619626760482788 ms\n",
      "INFO  2023-07-08 10:34:26,245 __main__:<module> - Starting evaluation of transformers-cpu\n"
     ]
    },
    {
     "name": "stderr",
     "output_type": "stream",
     "text": [
      "The model 'GPT2LMHeadCustomModel' is not supported for text-generation. Supported models are ['BartForCausalLM', 'BertLMHeadModel', 'BertGenerationDecoder', 'BigBirdForCausalLM', 'BigBirdPegasusForCausalLM', 'BioGptForCausalLM', 'BlenderbotForCausalLM', 'BlenderbotSmallForCausalLM', 'BloomForCausalLM', 'CamembertForCausalLM', 'CodeGenForCausalLM', 'CpmAntForCausalLM', 'CTRLLMHeadModel', 'Data2VecTextForCausalLM', 'ElectraForCausalLM', 'ErnieForCausalLM', 'GitForCausalLM', 'GPT2LMHeadModel', 'GPT2LMHeadModel', 'GPTBigCodeForCausalLM', 'GPTNeoForCausalLM', 'GPTNeoXForCausalLM', 'GPTNeoXJapaneseForCausalLM', 'GPTJForCausalLM', 'LlamaForCausalLM', 'MarianForCausalLM', 'MBartForCausalLM', 'MegaForCausalLM', 'MegatronBertForCausalLM', 'MvpForCausalLM', 'OpenLlamaForCausalLM', 'OpenAIGPTLMHeadModel', 'OPTForCausalLM', 'PegasusForCausalLM', 'PLBartForCausalLM', 'ProphetNetForCausalLM', 'QDQBertLMHeadModel', 'ReformerModelWithLMHead', 'RemBertForCausalLM', 'RobertaForCausalLM', 'RobertaPreLayerNormForCausalLM', 'RoCBertForCausalLM', 'RoFormerForCausalLM', 'RwkvForCausalLM', 'Speech2Text2ForCausalLM', 'TransfoXLLMHeadModel', 'TrOCRForCausalLM', 'XGLMForCausalLM', 'XLMWithLMHeadModel', 'XLMProphetNetForCausalLM', 'XLMRobertaForCausalLM', 'XLMRobertaXLForCausalLM', 'XLNetLMHeadModel', 'XmodForCausalLM', 'ORTModelForCausalLM'].\n",
      "Setting `pad_token_id` to `eos_token_id`:49152 for open-end generation.\n",
      "Setting `pad_token_id` to `eos_token_id`:49152 for open-end generation.\n",
      "Setting `pad_token_id` to `eos_token_id`:49152 for open-end generation.\n",
      "Setting `pad_token_id` to `eos_token_id`:49152 for open-end generation.\n",
      "Setting `pad_token_id` to `eos_token_id`:49152 for open-end generation.\n",
      "Setting `pad_token_id` to `eos_token_id`:49152 for open-end generation.\n",
      "Setting `pad_token_id` to `eos_token_id`:49152 for open-end generation.\n",
      "Setting `pad_token_id` to `eos_token_id`:49152 for open-end generation.\n",
      "Setting `pad_token_id` to `eos_token_id`:49152 for open-end generation.\n",
      "Setting `pad_token_id` to `eos_token_id`:49152 for open-end generation.\n",
      "Setting `pad_token_id` to `eos_token_id`:49152 for open-end generation.\n"
     ]
    },
    {
     "name": "stdout",
     "output_type": "stream",
     "text": [
      "INFO  2023-07-08 10:35:44,983 __main__:<module> - transformers-cpu: time taken = 54.448054790496826 ms\n",
      "INFO  2023-07-08 10:35:45,155 __main__:<module> - Starting evaluation of onnxruntime-cpu\n",
      "INFO  2023-07-08 10:35:45,158 autodev.autocomplete.model:create_model - Loading ONNX model from models/santacoder_onnx/model.onnx\n",
      "INFO  2023-07-08 10:36:34,361 __main__:<module> - onnxruntime-cpu: time taken = 30.478903770446777 ms\n",
      "INFO  2023-07-08 10:36:34,363 __main__:<module> - Starting evaluation of onnxruntime-cpu-avx2\n",
      "INFO  2023-07-08 10:36:34,364 autodev.autocomplete.model:create_model - Loading ONNX model from models/santacoder_onnx_avx2/model_quantized.onnx\n",
      "INFO  2023-07-08 10:37:24,995 __main__:<module> - onnxruntime-cpu-avx2: time taken = 35.74293828010559 ms\n",
      "INFO  2023-07-08 10:37:24,997 __main__:<module> - Starting evaluation of onnxruntime-cpu-avx512\n",
      "INFO  2023-07-08 10:37:25,001 autodev.autocomplete.model:create_model - Loading ONNX model from models/santacoder_onnx_avx512/model_quantized.onnx\n",
      "INFO  2023-07-08 10:37:57,137 __main__:<module> - onnxruntime-cpu-avx512: time taken = 18.589226484298706 ms\n",
      "INFO  2023-07-08 10:37:57,139 __main__:<module> - Starting evaluation of bettertransformer-cached-cpu\n",
      "WARNING 2023-07-08 10:38:19,587 root:transform - For training, the BetterTransformer implementation for gpt2  architecture currently does not support padding as fused kernels do not support custom attention masks. Beware that passing padded batched training data may result in unexpected outputs.\n"
     ]
    },
    {
     "name": "stderr",
     "output_type": "stream",
     "text": [
      "The model 'GPT2LMHeadCustomModel' is not supported for text-generation. Supported models are ['BartForCausalLM', 'BertLMHeadModel', 'BertGenerationDecoder', 'BigBirdForCausalLM', 'BigBirdPegasusForCausalLM', 'BioGptForCausalLM', 'BlenderbotForCausalLM', 'BlenderbotSmallForCausalLM', 'BloomForCausalLM', 'CamembertForCausalLM', 'CodeGenForCausalLM', 'CpmAntForCausalLM', 'CTRLLMHeadModel', 'Data2VecTextForCausalLM', 'ElectraForCausalLM', 'ErnieForCausalLM', 'GitForCausalLM', 'GPT2LMHeadModel', 'GPT2LMHeadModel', 'GPTBigCodeForCausalLM', 'GPTNeoForCausalLM', 'GPTNeoXForCausalLM', 'GPTNeoXJapaneseForCausalLM', 'GPTJForCausalLM', 'LlamaForCausalLM', 'MarianForCausalLM', 'MBartForCausalLM', 'MegaForCausalLM', 'MegatronBertForCausalLM', 'MvpForCausalLM', 'OpenLlamaForCausalLM', 'OpenAIGPTLMHeadModel', 'OPTForCausalLM', 'PegasusForCausalLM', 'PLBartForCausalLM', 'ProphetNetForCausalLM', 'QDQBertLMHeadModel', 'ReformerModelWithLMHead', 'RemBertForCausalLM', 'RobertaForCausalLM', 'RobertaPreLayerNormForCausalLM', 'RoCBertForCausalLM', 'RoFormerForCausalLM', 'RwkvForCausalLM', 'Speech2Text2ForCausalLM', 'TransfoXLLMHeadModel', 'TrOCRForCausalLM', 'XGLMForCausalLM', 'XLMWithLMHeadModel', 'XLMProphetNetForCausalLM', 'XLMRobertaForCausalLM', 'XLMRobertaXLForCausalLM', 'XLNetLMHeadModel', 'XmodForCausalLM', 'ORTModelForCausalLM'].\n",
      "Setting `pad_token_id` to `eos_token_id`:49152 for open-end generation.\n",
      "Setting `pad_token_id` to `eos_token_id`:49152 for open-end generation.\n",
      "Setting `pad_token_id` to `eos_token_id`:49152 for open-end generation.\n",
      "Setting `pad_token_id` to `eos_token_id`:49152 for open-end generation.\n",
      "Setting `pad_token_id` to `eos_token_id`:49152 for open-end generation.\n",
      "Setting `pad_token_id` to `eos_token_id`:49152 for open-end generation.\n",
      "Setting `pad_token_id` to `eos_token_id`:49152 for open-end generation.\n",
      "Setting `pad_token_id` to `eos_token_id`:49152 for open-end generation.\n",
      "Setting `pad_token_id` to `eos_token_id`:49152 for open-end generation.\n",
      "Setting `pad_token_id` to `eos_token_id`:49152 for open-end generation.\n",
      "Setting `pad_token_id` to `eos_token_id`:49152 for open-end generation.\n"
     ]
    },
    {
     "name": "stdout",
     "output_type": "stream",
     "text": [
      "INFO  2023-07-08 10:38:43,826 __main__:<module> - bettertransformer-cached-cpu: time taken = 22.00521445274353 ms\n",
      "INFO  2023-07-08 10:38:43,827 __main__:<module> - Starting evaluation of transformers-cached-gpu\n"
     ]
    },
    {
     "name": "stderr",
     "output_type": "stream",
     "text": [
      "The model 'GPT2LMHeadCustomModel' is not supported for text-generation. Supported models are ['BartForCausalLM', 'BertLMHeadModel', 'BertGenerationDecoder', 'BigBirdForCausalLM', 'BigBirdPegasusForCausalLM', 'BioGptForCausalLM', 'BlenderbotForCausalLM', 'BlenderbotSmallForCausalLM', 'BloomForCausalLM', 'CamembertForCausalLM', 'CodeGenForCausalLM', 'CpmAntForCausalLM', 'CTRLLMHeadModel', 'Data2VecTextForCausalLM', 'ElectraForCausalLM', 'ErnieForCausalLM', 'GitForCausalLM', 'GPT2LMHeadModel', 'GPT2LMHeadModel', 'GPTBigCodeForCausalLM', 'GPTNeoForCausalLM', 'GPTNeoXForCausalLM', 'GPTNeoXJapaneseForCausalLM', 'GPTJForCausalLM', 'LlamaForCausalLM', 'MarianForCausalLM', 'MBartForCausalLM', 'MegaForCausalLM', 'MegatronBertForCausalLM', 'MvpForCausalLM', 'OpenLlamaForCausalLM', 'OpenAIGPTLMHeadModel', 'OPTForCausalLM', 'PegasusForCausalLM', 'PLBartForCausalLM', 'ProphetNetForCausalLM', 'QDQBertLMHeadModel', 'ReformerModelWithLMHead', 'RemBertForCausalLM', 'RobertaForCausalLM', 'RobertaPreLayerNormForCausalLM', 'RoCBertForCausalLM', 'RoFormerForCausalLM', 'RwkvForCausalLM', 'Speech2Text2ForCausalLM', 'TransfoXLLMHeadModel', 'TrOCRForCausalLM', 'XGLMForCausalLM', 'XLMWithLMHeadModel', 'XLMProphetNetForCausalLM', 'XLMRobertaForCausalLM', 'XLMRobertaXLForCausalLM', 'XLNetLMHeadModel', 'XmodForCausalLM', 'ORTModelForCausalLM'].\n",
      "Setting `pad_token_id` to `eos_token_id`:49152 for open-end generation.\n",
      "Setting `pad_token_id` to `eos_token_id`:49152 for open-end generation.\n",
      "Setting `pad_token_id` to `eos_token_id`:49152 for open-end generation.\n",
      "Setting `pad_token_id` to `eos_token_id`:49152 for open-end generation.\n",
      "Setting `pad_token_id` to `eos_token_id`:49152 for open-end generation.\n",
      "Setting `pad_token_id` to `eos_token_id`:49152 for open-end generation.\n",
      "Setting `pad_token_id` to `eos_token_id`:49152 for open-end generation.\n",
      "Setting `pad_token_id` to `eos_token_id`:49152 for open-end generation.\n",
      "Setting `pad_token_id` to `eos_token_id`:49152 for open-end generation.\n",
      "Setting `pad_token_id` to `eos_token_id`:49152 for open-end generation.\n",
      "Setting `pad_token_id` to `eos_token_id`:49152 for open-end generation.\n"
     ]
    },
    {
     "name": "stdout",
     "output_type": "stream",
     "text": [
      "INFO  2023-07-08 10:39:13,912 __main__:<module> - transformers-cached-gpu: time taken = 6.1361541748046875 ms\n",
      "INFO  2023-07-08 10:39:13,915 __main__:<module> - Starting evaluation of transformers-gpu\n"
     ]
    },
    {
     "name": "stderr",
     "output_type": "stream",
     "text": [
      "The model 'GPT2LMHeadCustomModel' is not supported for text-generation. Supported models are ['BartForCausalLM', 'BertLMHeadModel', 'BertGenerationDecoder', 'BigBirdForCausalLM', 'BigBirdPegasusForCausalLM', 'BioGptForCausalLM', 'BlenderbotForCausalLM', 'BlenderbotSmallForCausalLM', 'BloomForCausalLM', 'CamembertForCausalLM', 'CodeGenForCausalLM', 'CpmAntForCausalLM', 'CTRLLMHeadModel', 'Data2VecTextForCausalLM', 'ElectraForCausalLM', 'ErnieForCausalLM', 'GitForCausalLM', 'GPT2LMHeadModel', 'GPT2LMHeadModel', 'GPTBigCodeForCausalLM', 'GPTNeoForCausalLM', 'GPTNeoXForCausalLM', 'GPTNeoXJapaneseForCausalLM', 'GPTJForCausalLM', 'LlamaForCausalLM', 'MarianForCausalLM', 'MBartForCausalLM', 'MegaForCausalLM', 'MegatronBertForCausalLM', 'MvpForCausalLM', 'OpenLlamaForCausalLM', 'OpenAIGPTLMHeadModel', 'OPTForCausalLM', 'PegasusForCausalLM', 'PLBartForCausalLM', 'ProphetNetForCausalLM', 'QDQBertLMHeadModel', 'ReformerModelWithLMHead', 'RemBertForCausalLM', 'RobertaForCausalLM', 'RobertaPreLayerNormForCausalLM', 'RoCBertForCausalLM', 'RoFormerForCausalLM', 'RwkvForCausalLM', 'Speech2Text2ForCausalLM', 'TransfoXLLMHeadModel', 'TrOCRForCausalLM', 'XGLMForCausalLM', 'XLMWithLMHeadModel', 'XLMProphetNetForCausalLM', 'XLMRobertaForCausalLM', 'XLMRobertaXLForCausalLM', 'XLNetLMHeadModel', 'XmodForCausalLM', 'ORTModelForCausalLM'].\n",
      "Setting `pad_token_id` to `eos_token_id`:49152 for open-end generation.\n",
      "Setting `pad_token_id` to `eos_token_id`:49152 for open-end generation.\n",
      "Setting `pad_token_id` to `eos_token_id`:49152 for open-end generation.\n",
      "Setting `pad_token_id` to `eos_token_id`:49152 for open-end generation.\n",
      "Setting `pad_token_id` to `eos_token_id`:49152 for open-end generation.\n",
      "Setting `pad_token_id` to `eos_token_id`:49152 for open-end generation.\n",
      "Setting `pad_token_id` to `eos_token_id`:49152 for open-end generation.\n",
      "Setting `pad_token_id` to `eos_token_id`:49152 for open-end generation.\n",
      "Setting `pad_token_id` to `eos_token_id`:49152 for open-end generation.\n",
      "Setting `pad_token_id` to `eos_token_id`:49152 for open-end generation.\n",
      "Setting `pad_token_id` to `eos_token_id`:49152 for open-end generation.\n"
     ]
    },
    {
     "name": "stdout",
     "output_type": "stream",
     "text": [
      "INFO  2023-07-08 10:39:40,905 __main__:<module> - transformers-gpu: time taken = 5.971394300460815 ms\n",
      "INFO  2023-07-08 10:39:40,908 __main__:<module> - Starting evaluation of onnxruntime-gpu\n",
      "INFO  2023-07-08 10:39:40,910 autodev.autocomplete.model:create_model - Loading ONNX model from models/santacoder_onnx/model.onnx\n"
     ]
    },
    {
     "name": "stderr",
     "output_type": "stream",
     "text": [
      "2023-07-08 10:39:50.939008341 [W:onnxruntime:, session_state.cc:1169 VerifyEachNodeIsAssignedToAnEp] Some nodes were not assigned to the preferred execution providers which may or may not have an negative impact on performance. e.g. ORT explicitly assigns shape related ops to CPU to improve perf.\n",
      "2023-07-08 10:39:50.939101797 [W:onnxruntime:, session_state.cc:1171 VerifyEachNodeIsAssignedToAnEp] Rerunning with verbose output on a non-minimal build will show node assignments.\n"
     ]
    },
    {
     "name": "stdout",
     "output_type": "stream",
     "text": [
      "INFO  2023-07-08 10:39:56,459 __main__:<module> - onnxruntime-gpu: time taken = 3.172605276107788 ms\n",
      "INFO  2023-07-08 10:39:56,461 __main__:<module> - Starting evaluation of bettertransformer-cached-gpu\n",
      "WARNING 2023-07-08 10:40:15,701 root:transform - For training, the BetterTransformer implementation for gpt2  architecture currently does not support padding as fused kernels do not support custom attention masks. Beware that passing padded batched training data may result in unexpected outputs.\n"
     ]
    },
    {
     "name": "stderr",
     "output_type": "stream",
     "text": [
      "The model 'GPT2LMHeadCustomModel' is not supported for text-generation. Supported models are ['BartForCausalLM', 'BertLMHeadModel', 'BertGenerationDecoder', 'BigBirdForCausalLM', 'BigBirdPegasusForCausalLM', 'BioGptForCausalLM', 'BlenderbotForCausalLM', 'BlenderbotSmallForCausalLM', 'BloomForCausalLM', 'CamembertForCausalLM', 'CodeGenForCausalLM', 'CpmAntForCausalLM', 'CTRLLMHeadModel', 'Data2VecTextForCausalLM', 'ElectraForCausalLM', 'ErnieForCausalLM', 'GitForCausalLM', 'GPT2LMHeadModel', 'GPT2LMHeadModel', 'GPTBigCodeForCausalLM', 'GPTNeoForCausalLM', 'GPTNeoXForCausalLM', 'GPTNeoXJapaneseForCausalLM', 'GPTJForCausalLM', 'LlamaForCausalLM', 'MarianForCausalLM', 'MBartForCausalLM', 'MegaForCausalLM', 'MegatronBertForCausalLM', 'MvpForCausalLM', 'OpenLlamaForCausalLM', 'OpenAIGPTLMHeadModel', 'OPTForCausalLM', 'PegasusForCausalLM', 'PLBartForCausalLM', 'ProphetNetForCausalLM', 'QDQBertLMHeadModel', 'ReformerModelWithLMHead', 'RemBertForCausalLM', 'RobertaForCausalLM', 'RobertaPreLayerNormForCausalLM', 'RoCBertForCausalLM', 'RoFormerForCausalLM', 'RwkvForCausalLM', 'Speech2Text2ForCausalLM', 'TransfoXLLMHeadModel', 'TrOCRForCausalLM', 'XGLMForCausalLM', 'XLMWithLMHeadModel', 'XLMProphetNetForCausalLM', 'XLMRobertaForCausalLM', 'XLMRobertaXLForCausalLM', 'XLNetLMHeadModel', 'XmodForCausalLM', 'ORTModelForCausalLM'].\n",
      "Setting `pad_token_id` to `eos_token_id`:49152 for open-end generation.\n",
      "Setting `pad_token_id` to `eos_token_id`:49152 for open-end generation.\n",
      "Setting `pad_token_id` to `eos_token_id`:49152 for open-end generation.\n",
      "Setting `pad_token_id` to `eos_token_id`:49152 for open-end generation.\n",
      "Setting `pad_token_id` to `eos_token_id`:49152 for open-end generation.\n",
      "Setting `pad_token_id` to `eos_token_id`:49152 for open-end generation.\n",
      "Setting `pad_token_id` to `eos_token_id`:49152 for open-end generation.\n",
      "Setting `pad_token_id` to `eos_token_id`:49152 for open-end generation.\n",
      "Setting `pad_token_id` to `eos_token_id`:49152 for open-end generation.\n",
      "Setting `pad_token_id` to `eos_token_id`:49152 for open-end generation.\n",
      "Setting `pad_token_id` to `eos_token_id`:49152 for open-end generation.\n"
     ]
    },
    {
     "name": "stdout",
     "output_type": "stream",
     "text": [
      "INFO  2023-07-08 10:40:22,962 __main__:<module> - bettertransformer-cached-gpu: time taken = 5.61237359046936 ms\n"
     ]
    }
   ],
   "source": [
    "# apply benchmarking\n",
    "rows = []\n",
    "for model_name, cm_factory in models.items():\n",
    "    log.info(f\"Starting evaluation of {model_name}\")\n",
    "    tstart = time()\n",
    "    completion_model: CompletionModel = cm_factory()\n",
    "    load_time = time() - tstart\n",
    "    num_chars = 0\n",
    "    for i in range(num_applications + num_burnin_applications):\n",
    "        if i == num_burnin_applications:\n",
    "            tstart = time()\n",
    "            num_chars = 0\n",
    "        for completion_task in completion_tasks:\n",
    "            result = completion_model.apply(completion_task)\n",
    "            num_chars += len(result.completion)\n",
    "    time_taken = time() - tstart\n",
    "    log.info(f\"{model_name}: time taken = {time_taken}s\")\n",
    "    rows.append(dict(model_name=model_name, time_taken=time_taken, num_chars=num_chars,\n",
    "        secs_per_task=time_taken/(num_applications*len(completion_tasks)), load_time=load_time))\n",
    "    del completion_model"
   ],
   "metadata": {
    "collapsed": false,
    "ExecuteTime": {
     "end_time": "2023-07-08T10:40:22.743563Z",
     "start_time": "2023-07-08T10:33:35.376180500Z"
    }
   }
  },
  {
   "cell_type": "code",
   "execution_count": 11,
   "outputs": [
    {
     "data": {
      "text/plain": "                     model_name  time_taken  num_chars  secs_per_task  \\\n8               onnxruntime-gpu    3.172605        360       0.317261   \n9  bettertransformer-cached-gpu    5.612374        360       0.561237   \n7              transformers-gpu    5.971394        360       0.597139   \n6       transformers-cached-gpu    6.136154        360       0.613615   \n4        onnxruntime-cpu-avx512   18.589226        360       1.858923   \n5  bettertransformer-cached-cpu   22.005214        360       2.200521   \n0       transformers-cached-cpu   24.619627        360       2.461963   \n2               onnxruntime-cpu   30.478904        360       3.047890   \n3          onnxruntime-cpu-avx2   35.742938        670       3.574294   \n1              transformers-cpu   54.448055        360       5.444805   \n\n   load_time  \n8  12.033145  \n9  20.310930  \n7  20.400416  \n6  23.316469  \n4  11.586149  \n5  22.455523  \n0  23.292466  \n2  15.587316  \n3  11.277208  \n1  18.652644  ",
      "text/html": "<div>\n<style scoped>\n    .dataframe tbody tr th:only-of-type {\n        vertical-align: middle;\n    }\n\n    .dataframe tbody tr th {\n        vertical-align: top;\n    }\n\n    .dataframe thead th {\n        text-align: right;\n    }\n</style>\n<table border=\"1\" class=\"dataframe\">\n  <thead>\n    <tr style=\"text-align: right;\">\n      <th></th>\n      <th>model_name</th>\n      <th>time_taken</th>\n      <th>num_chars</th>\n      <th>secs_per_task</th>\n      <th>load_time</th>\n    </tr>\n  </thead>\n  <tbody>\n    <tr>\n      <th>8</th>\n      <td>onnxruntime-gpu</td>\n      <td>3.172605</td>\n      <td>360</td>\n      <td>0.317261</td>\n      <td>12.033145</td>\n    </tr>\n    <tr>\n      <th>9</th>\n      <td>bettertransformer-cached-gpu</td>\n      <td>5.612374</td>\n      <td>360</td>\n      <td>0.561237</td>\n      <td>20.310930</td>\n    </tr>\n    <tr>\n      <th>7</th>\n      <td>transformers-gpu</td>\n      <td>5.971394</td>\n      <td>360</td>\n      <td>0.597139</td>\n      <td>20.400416</td>\n    </tr>\n    <tr>\n      <th>6</th>\n      <td>transformers-cached-gpu</td>\n      <td>6.136154</td>\n      <td>360</td>\n      <td>0.613615</td>\n      <td>23.316469</td>\n    </tr>\n    <tr>\n      <th>4</th>\n      <td>onnxruntime-cpu-avx512</td>\n      <td>18.589226</td>\n      <td>360</td>\n      <td>1.858923</td>\n      <td>11.586149</td>\n    </tr>\n    <tr>\n      <th>5</th>\n      <td>bettertransformer-cached-cpu</td>\n      <td>22.005214</td>\n      <td>360</td>\n      <td>2.200521</td>\n      <td>22.455523</td>\n    </tr>\n    <tr>\n      <th>0</th>\n      <td>transformers-cached-cpu</td>\n      <td>24.619627</td>\n      <td>360</td>\n      <td>2.461963</td>\n      <td>23.292466</td>\n    </tr>\n    <tr>\n      <th>2</th>\n      <td>onnxruntime-cpu</td>\n      <td>30.478904</td>\n      <td>360</td>\n      <td>3.047890</td>\n      <td>15.587316</td>\n    </tr>\n    <tr>\n      <th>3</th>\n      <td>onnxruntime-cpu-avx2</td>\n      <td>35.742938</td>\n      <td>670</td>\n      <td>3.574294</td>\n      <td>11.277208</td>\n    </tr>\n    <tr>\n      <th>1</th>\n      <td>transformers-cpu</td>\n      <td>54.448055</td>\n      <td>360</td>\n      <td>5.444805</td>\n      <td>18.652644</td>\n    </tr>\n  </tbody>\n</table>\n</div>"
     },
     "execution_count": 11,
     "metadata": {},
     "output_type": "execute_result"
    }
   ],
   "source": [
    "df = pd.DataFrame(rows)\n",
    "df.sort_values(\"secs_per_task\", inplace=True)\n",
    "df"
   ],
   "metadata": {
    "collapsed": false,
    "ExecuteTime": {
     "end_time": "2023-07-08T10:41:49.598117400Z",
     "start_time": "2023-07-08T10:41:49.549857600Z"
    }
   }
  },
  {
   "cell_type": "code",
   "execution_count": 14,
   "outputs": [
    {
     "name": "stdout",
     "output_type": "stream",
     "text": [
      "INFO  2023-07-08 10:49:08,844 matplotlib.font_manager:_load_fontmanager - generated new fontManager\n"
     ]
    },
    {
     "data": {
      "text/plain": "<Axes: xlabel='secs_per_task', ylabel='model_name'>"
     },
     "execution_count": 14,
     "metadata": {},
     "output_type": "execute_result"
    },
    {
     "data": {
      "text/plain": "<Figure size 640x480 with 1 Axes>",
      "image/png": "[encoded data removed]"
     },
     "metadata": {},
     "output_type": "display_data"
    }
   ],
   "source": [
    "import seaborn as sns\n",
    "\n",
    "sns.barplot(x=\"secs_per_task\", y=\"model_name\", data=df)"
   ],
   "metadata": {
    "collapsed": false,
    "ExecuteTime": {
     "end_time": "2023-07-08T10:49:09.351769Z",
     "start_time": "2023-07-08T10:49:08.113869700Z"
    }
   }
  }
 ],
 "metadata": {
  "kernelspec": {
   "display_name": "Python 3",
   "language": "python",
   "name": "python3"
  },
  "language_info": {
   "codemirror_mode": {
    "name": "ipython",
    "version": 2
   },
   "file_extension": ".py",
   "mimetype": "text/x-python",
   "name": "python",
   "nbconvert_exporter": "python",
   "pygments_lexer": "ipython2",
   "version": "2.7.6"
  }
 },
 "nbformat": 4,
 "nbformat_minor": 0
}
